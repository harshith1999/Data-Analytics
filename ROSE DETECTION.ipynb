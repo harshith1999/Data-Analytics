{
 "cells": [
  {
   "cell_type": "code",
   "execution_count": null,
   "metadata": {},
   "outputs": [],
   "source": [
    "#DS VENKATA HARSHITH\n",
    "#16Z262\n",
    "#ROSE DETECTION WITH RED FREQUENCY"
   ]
  },
  {
   "cell_type": "code",
   "execution_count": 1,
   "metadata": {},
   "outputs": [],
   "source": [
    "#Import Packages\n",
    "\n",
    "import cv2\n",
    "import numpy as np\n",
    "import copy\n",
    "import math"
   ]
  },
  {
   "cell_type": "code",
   "execution_count": null,
   "metadata": {},
   "outputs": [],
   "source": [
    "blurValue = 41  #  Gaussian Blur\n",
    "threshold = 60  #  BINARY threshold\n",
    "#Read an Image\n",
    "image=cv2.imread('F:\\AI lab\\redrose.jpg',10) "
   ]
  },
  {
   "cell_type": "code",
   "execution_count": null,
   "metadata": {},
   "outputs": [],
   "source": [
    "#Perform Gaussian Blur\n",
    "blur = cv2. GaussianBlur(image, ((blurValue, blurValue)), 0)\n",
    "#Convert image to BGR theme\n",
    "hsv = cv2.cvtColor(image, cv2.COLOR_BGR2HSV)\n",
    "#Frequencies of Red Colour\n",
    "lower = [0,120,70]\n",
    "upper = [180,255,255]\n",
    "lower = np.array(lower, dtype = \"float32\")\n",
    "upper = np.array(upper, dtype = \"float32\")\n",
    "#Save the HSV image as Mask\n",
    "mask = cv2.inRange(hsv, lower, upper)\n",
    "output = cv2.bitwise_and(image, hsv, mask = mask)"
   ]
  },
  {
   "cell_type": "code",
   "execution_count": null,
   "metadata": {},
   "outputs": [],
   "source": [
    "cv2.imshow(\"original\", image)"
   ]
  },
  {
   "cell_type": "code",
   "execution_count": null,
   "metadata": {},
   "outputs": [],
   "source": [
    "#Shape Detection - Contours = Formation of Contours on red coloured objects in image\n",
    "_,contours, hierarchy = cv2.findContours(mask, cv2.RETR_TREE, cv2.CHAIN_APPROX_SIMPLE)\n",
    "#To Display the \"Rose\" on image using Font\n",
    "font = cv2.FONT_HERSHEY_COMPLEX"
   ]
  },
  {
   "cell_type": "code",
   "execution_count": null,
   "metadata": {},
   "outputs": [],
   "source": [
    "#Make a plot on image (2D). Draw the contours on Approx Value\n",
    "for cnt in contours:\n",
    "    approx = cv2.approxPolyDP(cnt, 0.01*cv2.arcLength(cnt, True), True)\n",
    "    cv2.drawContours(mask, [approx], 0, (0), 5)\n",
    "    x = approx.ravel()[0]\n",
    "    y = approx.ravel()[1]\n",
    "    #If the Contours value of rose is assumed as <10\n",
    "    if len(approx)<10 :\n",
    "        approx = cv2.approxPolyDP(cnt, 0.01*cv2.arcLength(cnt, True), True)\n",
    "        cv2.drawContours(output, [approx], 0, (100), 10)\n",
    "        cv2.putText(output, \"rose\", (x, y), font, 1, (255))\n",
    "        #Region plotted (X,Y)\n",
    "        print(x,y)\n",
    "    elif len(approx)>10:\n",
    "        cv2.drawContours(output, [approx], 0, (100), 10)\n",
    "        cv2.putText(output, \" not rose\", (x, y), font, 1, (0))\n",
    "    cv2.imshow(\"rose\", output)\n",
    "    break"
   ]
  },
  {
   "cell_type": "code",
   "execution_count": null,
   "metadata": {},
   "outputs": [],
   "source": [
    "cv2.imshow(\"mask\", mask)\n",
    "cv2.waitKey(0)\n",
    "cv2.DestroyAllWindows()"
   ]
  },
  {
   "cell_type": "code",
   "execution_count": null,
   "metadata": {},
   "outputs": [],
   "source": []
  }
 ],
 "metadata": {
  "kernelspec": {
   "display_name": "Python 3",
   "language": "python",
   "name": "python3"
  },
  "language_info": {
   "codemirror_mode": {
    "name": "ipython",
    "version": 3
   },
   "file_extension": ".py",
   "mimetype": "text/x-python",
   "name": "python",
   "nbconvert_exporter": "python",
   "pygments_lexer": "ipython3",
   "version": "3.6.4"
  }
 },
 "nbformat": 4,
 "nbformat_minor": 2
}
